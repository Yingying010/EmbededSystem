{
 "cells": [
  {
   "cell_type": "code",
   "execution_count": null,
   "metadata": {},
   "outputs": [],
   "source": [
    "# Created by Elia Gatti, UCL.\n",
    "# This code takes inspiration and is heavily based on many web resources and github pages. \n",
    "# A shoutout to the github users curiores, emrebalak, and Thrifleganger"
   ]
  },
  {
   "cell_type": "markdown",
   "metadata": {},
   "source": [
    "<h1>Modelling and designing embedded systems lab - Halloween Special</h1>\n",
    "<h2>Spooktacular Signal Processing</h2>"
   ]
  },
  {
   "cell_type": "markdown",
   "metadata": {},
   "source": [
    "![pumpkinpic](pumpkinpic.jpg)"
   ]
  },
  {
   "cell_type": "markdown",
   "metadata": {},
   "source": [
    "WELCOME... To the creepy notebook. \n",
    "You are a well-known and respected IoT engineer by day, but it is at night that your true calling manifest itself. \n",
    "You hunt the streets at night with your patented IoT instruments, to look for mysteries and clues from beyond the veil....\n",
    "Yesterday, your \"spectrophone\" (a microphone that records the screams of desperate disembodied souls) picked up something unusual..\n",
    "\n",
    "You set off to analyze that mysterious signal......"
   ]
  },
  {
   "cell_type": "markdown",
   "metadata": {},
   "source": [
    "First, you need all the tools necessary to do your job of supernatural detective:"
   ]
  },
  {
   "cell_type": "code",
   "execution_count": null,
   "metadata": {},
   "outputs": [],
   "source": [
    "import numpy as np\n",
    "from scipy.io.wavfile import read\n",
    "import matplotlib.pyplot as plt\n",
    "from IPython.display import Audio\n",
    "import scipy as sp\n",
    "from scipy.io import wavfile\n",
    "from scipy import signal\n",
    "from scipy.signal import periodogram as periodogram_f\n",
    "from scipy.fft import fftfreq, fftshift\n",
    "from scipy.fft import fft, ifft, fft2, ifft2\n",
    "import math\n"
   ]
  },
  {
   "cell_type": "markdown",
   "metadata": {},
   "source": [
    "Now it's time to get down to work. First load the signal:"
   ]
  },
  {
   "cell_type": "code",
   "execution_count": null,
   "metadata": {},
   "outputs": [],
   "source": [
    "SAMPLE_RATE = 44100\n",
    "song = read(\"aphex_twin_equation.wav\")[1][:,0]  # read song left stereo\n",
    "song = song/np.max(np.abs(song)) #normalize song\n",
    "Audio(\"aphex_twin_equation.wav\")"
   ]
  },
  {
   "cell_type": "markdown",
   "metadata": {},
   "source": [
    "Oh golly! That sounds sooooo spooky! It must certainly be a message from the another dimension! \n",
    "You suspect there is more to it than it meets the eye... It would be a good idea to find a way to visualize that signal..."
   ]
  },
  {
   "cell_type": "code",
   "execution_count": null,
   "metadata": {},
   "outputs": [],
   "source": [
    "plt.plot(song)"
   ]
  },
  {
   "cell_type": "markdown",
   "metadata": {},
   "source": [
    "It doesn't look there is much there... your run of the mill representation in the temporal domain... But... Wait a minute!\n",
    "For the souls that passed, is time all that important? What does it matter time when ones has all the eternity? Not to mention this is clearly a sound from a SPECTRUM...ehm... spectre!\n",
    "We might have more luck looking at its spectral density!  "
   ]
  },
  {
   "cell_type": "markdown",
   "metadata": {},
   "source": [
    "Your tool of choice to estimate the spectral density of a stimulus is the Periodogram!\n",
    "\n",
    "$$\\hat{S}^{(p)}(f) = \\frac{\\Delta t \\left|\\text{FT}[X_t](f)\\right|^2}{N}$$"
   ]
  },
  {
   "cell_type": "code",
   "execution_count": null,
   "metadata": {},
   "outputs": [],
   "source": [
    "periodogram = np.abs(fft(song))**2 / (SAMPLE_RATE * len(song))\n",
    "plt.plot(fftshift(periodogram))"
   ]
  },
  {
   "cell_type": "markdown",
   "metadata": {},
   "source": [
    "Darn it! still no luck! Even the frequency domain does not hold the secret.... but wait a minute... you are in the real world... and time matters in your dimension! if only there was a way to visualize the frequency spectrum in time...\n",
    "You got it! You need a SPECTROGRAM!"
   ]
  },
  {
   "cell_type": "code",
   "execution_count": null,
   "metadata": {},
   "outputs": [],
   "source": [
    "# The spectrogram is a spectral density estimation for \"slices\" of signal. This allows to visualize how the spectral density varies in time. Thus, we first need to compute two parameters:\n",
    "# – Window Size: Size of the rectangular window.\n",
    "# – Step: It is unnecessary to calculate the FFTs for every data point. Thus, starting from 0 th data point, you should decide on next data points according to step value\n",
    "\n",
    "window_size = int(0.02 * SAMPLE_RATE)\n",
    "step_size = int(0.01 * SAMPLE_RATE)\n",
    "\n",
    "# Extract windows and make hanning window (https://en.wikipedia.org/wiki/Window_function) multiplied it with amplitudes before passing it to FFT to handle discontinuity of small signal\n",
    "leftover = (len(song) - window_size) % step_size\n",
    "song = song[:len(song) - leftover] # remove leftover 56 data points from end\n",
    "nshape = (window_size, (len(song) - window_size) // step_size + 1) # (882, 3499)\n",
    "nstrides = (song.strides[0], song.strides[0] * step_size) # (8, 3528)\n",
    "windows = np.lib.stride_tricks.as_strided(song, shape = nshape, strides = nstrides) #windows extracted\n",
    "# Window weighting\n",
    "weighting = np.hanning(window_size)[:, None]\n",
    "\n",
    "\n",
    "# Work on the first half of FFT and calculate absolute values\n",
    "fft = np.fft.fft(windows * weighting, axis=0)\n",
    "fft = fft[:442] # Since it's mirrored take first half\n",
    "fft = np.absolute(fft) # absolute FFTs of the windowed data\n",
    "fft = fft**2\n",
    "\n",
    "# Use 10 * log10(x + c) to smooth the data for a better representation\n",
    "spectrogram = 10 * np.log(fft + 1e-14) # 10 ∗ log10(x + c) to smooth the data for a better representation\n",
    "\n",
    "# The final 2D spectrogram matrix whichh rows and columns represent window frame number and frequency bin, values represent the strength of the frequencies is created.\n",
    "plt.pcolormesh(spectrogram) # for obtaining a visual from the data\n",
    "plt.ylabel('Frequency [Hz]')\n",
    "plt.xlabel('Time [sec]')\n",
    "plt.show()\n",
    "\n"
   ]
  },
  {
   "cell_type": "markdown",
   "metadata": {},
   "source": [
    "Something seems to emerge..... When patterns do not seem clear, it is always a good idea to try different scales"
   ]
  },
  {
   "cell_type": "code",
   "execution_count": null,
   "metadata": {},
   "outputs": [],
   "source": [
    "plt.pcolormesh(spectrogram) # for obtaining a visual from the data\n",
    "plt.ylabel('Frequency [Hz]')\n",
    "plt.yscale('symlog') # The message is hidden into the log scale. \n",
    "plt.xlabel('Time [sec]')\n",
    "plt.show()\n"
   ]
  },
  {
   "cell_type": "markdown",
   "metadata": {},
   "source": [
    "Ohhhhh!!! You got it! It is a real Ghost, and it is looking at you! Try to communicate with it... It is clearly a \"digital\" kind of ghost. You heard somewhere that sending impulse signals to digital ghost is a good way to understand their intentions. Impulse signals contain all possible frequencies after all. \n",
    "\n",
    "Better generate some impulses then:"
   ]
  },
  {
   "cell_type": "code",
   "execution_count": null,
   "metadata": {},
   "outputs": [],
   "source": [
    "frameSize = 1024\n",
    "\n",
    "impulse = np.zeros(frameSize)\n",
    "impulse[0] = 1;\n",
    "\n",
    "plt.plot(impulse, 'bo-')\n",
    "plt.xlabel('Sample count')\n",
    "plt.ylabel('Amplitude')\n",
    "plt.xlim(-0.5, 10)\n",
    "plt.title(\"Impulse signal (Time domain)\")\n",
    "\n",
    "plt.show"
   ]
  },
  {
   "cell_type": "code",
   "execution_count": null,
   "metadata": {},
   "outputs": [],
   "source": [
    "from IPython.display import Audio\n",
    "\n",
    "sampleRate = 44100\n",
    "audio = Audio(data=impulse, rate=sampleRate)\n",
    "audio"
   ]
  },
  {
   "cell_type": "markdown",
   "metadata": {},
   "source": [
    "Doesn't sound like much right? Just doublecheck whether it is true that it contains all the possible freqeuncies ever:"
   ]
  },
  {
   "cell_type": "code",
   "execution_count": null,
   "metadata": {},
   "outputs": [],
   "source": [
    "spectrum = np.fft.fft(impulse)\n",
    "x = np.linspace(0, spectrum.size * sampleRate / frameSize / 2 , spectrum.size//2)\n",
    "y = np.abs(spectrum)[:spectrum.size//2]\n",
    "plt.plot(x, y)\n",
    "plt.xscale('log')\n",
    "plt.xlabel('Frequency (Hz)')\n",
    "plt.ylabel('Amplitude')\n",
    "plt.title('Impulse signal (Frequency domain)')\n",
    "plt.show()\n",
    "\n"
   ]
  },
  {
   "cell_type": "markdown",
   "metadata": {},
   "source": [
    "OK, now you are trying to understand why impulses are so powerful... Why do impulse signals contain all possible sinusoids? Let's try and think about it the other way around. What would a signal look like when you add all possible sinusoids together?\n",
    "let's sum some cosines and let's find out:\n",
    "\n",
    "Let's take a sample rate of 400. And let's add sinusoids together starting from a sinusoid of frequency 1, all the way to a sinusoid of frequency 200 (Nyquist frequency). What do you think we'd get?\n",
    "\n"
   ]
  },
  {
   "cell_type": "code",
   "execution_count": null,
   "metadata": {},
   "outputs": [],
   "source": [
    "sampleRate = 400\n",
    "freq = 200\n",
    "\n",
    "arr = np.linspace(0, freq, sampleRate)\n",
    "combination = np.zeros(sampleRate)\n",
    "for f in range(1, freq):\n",
    "    combination += np.cos(2 * np.pi * f * arr)\n",
    "combination /= freq\n",
    "\n",
    "plt.plot(combination[:combination.size//2], 'o-')\n",
    "plt.xlabel('Sample count')\n",
    "plt.ylabel('Amplitude')\n",
    "#plt.xlim(-0.5, 10)\n",
    "plt.title(\"Combination of \" + str(freq) + \" cosines\")\n",
    "plt.show()"
   ]
  },
  {
   "cell_type": "markdown",
   "metadata": {},
   "source": [
    "OK, now that's clear! You used your impulses to \"knock at the doors of the other side\" ... and something is happening! A light, purple mist is rising in front, and lowering, and rising, and lowering, periodically!  of you... That is not a good sign! \n",
    "This mist clearly works on the high frequency spectrum!\n",
    "\n",
    "Hurry up, there must be a way to filter the high frequency components of the mist! "
   ]
  },
  {
   "cell_type": "markdown",
   "metadata": {},
   "source": [
    "### The magical book of low pass filtering\n",
    "\n",
    "This old scroll describes how to design a lowpass filter with a cutoff frequency $\\omega_c$ and compute the discrete coefficients. Applying this filter to the magical mist will certainly work to exorcise the ghost for good!"
   ]
  },
  {
   "cell_type": "code",
   "execution_count": null,
   "metadata": {},
   "outputs": [],
   "source": [
    "# Packages and adjustments to the figures\n",
    "\n",
    "plt.rcParams[\"figure.figsize\"] = 10,5\n",
    "plt.rcParams[\"font.size\"] = 16\n",
    "plt.rcParams.update({\"text.usetex\": True,\"font.family\": \"sans-serif\",\"font.sans-serif\": [\"Helvetica\"]})"
   ]
  },
  {
   "cell_type": "markdown",
   "metadata": {},
   "source": [
    "### Generate a magical mist (signal) and test your magic (filter) on it\n",
    " \n",
    "* A simple test signal $\\boldsymbol{y} = \\{ y_i \\}$ is generated with a fixed sampling frequency using the function:\n",
    "\n",
    "$$y(t) = m_0 \\sin(2\\pi f_0 t) + m_1 \\sin(2\\pi f_1 t)$$\n",
    "\n",
    "* The power spectrum is plotted as the magnitude of the discrete fourier transform (DFT): $|\\hat{\\boldsymbol{y}}|$"
   ]
  },
  {
   "cell_type": "code",
   "execution_count": null,
   "metadata": {},
   "outputs": [],
   "source": [
    "# Generate a signal\n",
    "samplingFreq = 1000; # sampled at 1 kHz = 1000 samples / second\n",
    "tlims = [0,1]        # in seconds\n",
    "signalFreq = [2,50]; # Cycles / second\n",
    "signalMag = [1,0.2]; # magnitude of each sine\n",
    "t = np.linspace(tlims[0],tlims[1],(tlims[1]-tlims[0])*samplingFreq)\n",
    "y = signalMag[0]*np.sin(2*math.pi*signalFreq[0]*t) + signalMag[1]*np.sin(2*math.pi*signalFreq[1]*t)\n",
    "\n",
    "# Compute the Fourier transform\n",
    "yhat = np.fft.fft(y);\n",
    "fcycles = np.fft.fftfreq(len(t),d=1.0/samplingFreq); # the frequencies in cycles/s\n",
    "\n",
    "# Plot the signal\n",
    "plt.figure()\n",
    "plt.plot(t,y);\n",
    "plt.ylabel(\"$y(t)$\");\n",
    "plt.xlabel(\"$t$ (s)\");\n",
    "plt.xlim([min(t),max(t)]);\n",
    "\n",
    "# Plot the power spectrum\n",
    "plt.figure()\n",
    "plt.plot(fcycles,np.absolute(yhat));\n",
    "plt.xlim([-100,100]);\n",
    "plt.xlabel(\"$\\omega$ (cycles/s)\");\n",
    "plt.ylabel(\"$|\\hat{y}|$\");"
   ]
  },
  {
   "cell_type": "markdown",
   "metadata": {},
   "source": [
    "### The transfer function is where the magic actually happens\n",
    "\n",
    "* A cutoff frequency is selected and the transfer function for the low-pass filter is computed using <code>signal.TransferFunction</code>\n",
    "* The low-pass filter transfer function is\n",
    "$$H(s) = \\frac{\\omega_0}{s + \\omega_0}$$\n",
    "* The Bode plot shows the frequency response of $H$ by plotting the magnitude and phase of the frequency response\n",
    "* Low frequencies are not attenuated (this is the *pass band*)\n",
    "* High frequencies are attenutated (this is the *stop band*)\n"
   ]
  },
  {
   "cell_type": "code",
   "execution_count": null,
   "metadata": {},
   "outputs": [],
   "source": [
    "# Low-pass filter\n",
    "w0 = 2*np.pi*5; # pole frequency (rad/s)\n",
    "num = w0        # transfer function numerator coefficients\n",
    "den = [1,w0]    # transfer function denominator coefficients\n",
    "lowPass = signal.TransferFunction(num,den) # Transfer function\n",
    "\n",
    "# Generate the bode plot\n",
    "w = np.logspace( np.log10(min(signalFreq)*2*np.pi/10), np.log10(max(signalFreq)*2*np.pi*10), 500 )\n",
    "w, mag, phase = signal.bode(lowPass,w)\n",
    "\n",
    "# Magnitude plot\n",
    "plt.figure()\n",
    "plt.semilogx(w, mag)\n",
    "for sf in signalFreq:\n",
    "    plt.semilogx([sf*2*np.pi,sf*2*np.pi],[min(mag),max(mag)],'k:')\n",
    "plt.ylabel(\"Magnitude ($dB$)\")\n",
    "plt.xlim([min(w),max(w)])\n",
    "plt.ylim([min(mag),max(mag)])\n",
    "\n",
    "# Phase plot\n",
    "plt.figure()\n",
    "plt.semilogx(w, phase)  # Bode phase plot\n",
    "plt.ylabel(\"Phase ($^\\circ$)\")\n",
    "plt.xlabel(\"$\\omega$ (rad/s)\")\n",
    "plt.xlim([min(w),max(w)])\n",
    "plt.show()"
   ]
  },
  {
   "cell_type": "markdown",
   "metadata": {},
   "source": [
    "### we are talking about a digital ghost, that lives in discrete time, so we need some adjustments\n",
    "\n",
    "To implement the low-pass filter in the digital, discretized domain (and when you will do that on hardware), you need to compute the discrete transfer function using the signal's sampling frequency.\n",
    "* The time step is $\\Delta t = 1/f_s$\n",
    "* Computing the discrete transfer function using Tustin's method, set $s = \\frac{2}{\\Delta t} \\left( \\frac{1-z^{-1}}{1+z^{-1}} \\right)$, so\n",
    "$$ H(z) = \\frac{\\omega_0}{\\frac{2}{\\Delta t} \\frac{1-z^{-1}}{1+z^{-1}}  + \\omega_0} = \\frac{\\Delta t \\omega_0 (z+1)}{(\\Delta t \\omega_0 + 2)z + \\Delta t \\omega_0 - 2} $$\n",
    "* You don't have to compute it by hand. The <code>to_discrete</code> method is used to compute the bilinear transform (Tustin's method)"
   ]
  },
  {
   "cell_type": "code",
   "execution_count": null,
   "metadata": {},
   "outputs": [],
   "source": [
    "dt = 1.0/samplingFreq;\n",
    "discreteLowPass = lowPass.to_discrete(dt,method='gbt',alpha=0.5)\n",
    "print(discreteLowPass)"
   ]
  },
  {
   "cell_type": "markdown",
   "metadata": {},
   "source": [
    "### Filter coefficients\n",
    "\n",
    "We want to find the filter coefficients for the discrete update:\n",
    "$$y[n] = a_1 y[n-1] + a_2 y[n-2] + ... + b_0 x[n] + b_1 x[n-1] + ...$$\n",
    "\n",
    "The coefficients can be taken directly from the discrete transfer function of the filter in the form:\n",
    "$$H(z) = \\frac{b_0 + b_1 z^{-1} + b_2 z^{-2} + \\ldots}{1 - a_1 z^{-1} - a_2 z^{-2} + \\ldots}$$\n",
    "\n",
    "(This is a result of taking the Z-transform which is not shown here)\n",
    "\n",
    "Compare this to a transfer function with coefficients\n",
    "<code>\n",
    "num = [b_0, b_1, b_2]\n",
    "den = [1, a_1, a_2]\n",
    "</code>\n",
    "is \n",
    "$$H(z) = \\frac{b_0 z^2 + b_1 z + b_2}{z^2 + a_1 z + a_2}$$\n",
    "which is equivalent to\n",
    "$$H(z) = \\frac{b_0 + b_1 z^{-1} + b_2 z^{-2}}{1 + a_1 z^{-1} + a_2 z^{-2}}$$\n",
    "So you can take the coefficients in the same order that they are defined in the numerator and denominator of the transfer function object. The only difference is that the **coefficients in the denominator need a negative sign**.\n",
    "\n",
    "* To filter the signal, apply the filter using the discrete update\n",
    "* The filtered signal and filtered signal power spectrum are plotted alongside the unfiltered signal"
   ]
  },
  {
   "cell_type": "code",
   "execution_count": null,
   "metadata": {},
   "outputs": [],
   "source": [
    "# The coefficients from the discrete form of the filter transfer function (but with a negative sign)\n",
    "b = discreteLowPass.num;\n",
    "a = -discreteLowPass.den;\n",
    "print(\"Filter coefficients b_i: \" + str(b))\n",
    "print(\"Filter coefficients a_i: \" + str(a[1:]))\n",
    "\n",
    "# Filter the signal\n",
    "yfilt = np.zeros(len(y));\n",
    "for i in range(3,len(y)):\n",
    "    yfilt[i] = a[1]*yfilt[i-1] + b[0]*y[i] + b[1]*y[i-1];\n",
    "    \n",
    "# Plot the signal\n",
    "plt.figure()\n",
    "plt.plot(t,y);\n",
    "plt.plot(t,yfilt);\n",
    "plt.ylabel(\"$y(t)$\")\n",
    "plt.xlim([min(t),max(t)]);\n",
    "\n",
    "# Generate Fourier transform\n",
    "yfilthat = np.fft.fft(yfilt)\n",
    "fcycles = np.fft.fftfreq(len(t),d=1.0/samplingFreq)\n",
    "\n",
    "plt.figure()\n",
    "plt.plot(fcycles,np.absolute(yhat));\n",
    "plt.plot(fcycles,np.absolute(yfilthat));\n",
    "plt.xlim([-100,100]);\n",
    "plt.xlabel(\"$\\omega$ (cycles/s)\");\n",
    "plt.ylabel(\"$|\\hat{y}|$\");\n"
   ]
  },
  {
   "cell_type": "markdown",
   "metadata": {},
   "source": [
    "OK, our filters works!!! the mist dissipates and the evil spirit is exprcised! HUZZAH!!!!!! "
   ]
  },
  {
   "cell_type": "markdown",
   "metadata": {},
   "source": [
    "![HappyHalloween](happyhalloween.jpg)"
   ]
  }
 ],
 "metadata": {
  "kernelspec": {
   "display_name": "venv",
   "language": "python",
   "name": "python3"
  },
  "language_info": {
   "codemirror_mode": {
    "name": "ipython",
    "version": 3
   },
   "file_extension": ".py",
   "mimetype": "text/x-python",
   "name": "python",
   "nbconvert_exporter": "python",
   "pygments_lexer": "ipython3",
   "version": "3.10.9"
  }
 },
 "nbformat": 4,
 "nbformat_minor": 2
}
